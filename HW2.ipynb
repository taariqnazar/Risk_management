{
 "cells": [
  {
   "cell_type": "code",
   "execution_count": 475,
   "id": "fff4bc00-88ed-4c27-87eb-d03c0e826518",
   "metadata": {},
   "outputs": [],
   "source": [
    "import pandas as pd\n",
    "import numpy as np\n",
    "import matplotlib.pyplot as plt\n",
    "import yfinance as yf"
   ]
  },
  {
   "cell_type": "code",
   "execution_count": 3,
   "id": "87a7a538-b7f1-4b3b-80fe-3b5f986ac078",
   "metadata": {},
   "outputs": [],
   "source": [
    "#Yearly interest\n",
    "r = 0.01\n",
    "R0 = np.exp(r)"
   ]
  },
  {
   "cell_type": "code",
   "execution_count": 437,
   "id": "c22af559-9fe0-4d03-aefe-3a4d46dabc57",
   "metadata": {},
   "outputs": [],
   "source": [
    "def sample_V(R1, years, sample_size, p, c, yearly_investment=1000):\n",
    "    frac = lambda k: p*(1-c*(k-1)/30)\n",
    "    q = np.array([frac(i+1) for i in range(30)])\n",
    "    phi = q*(R1 - R0) + R0\n",
    "    return pd.DataFrame(yearly_investment*phi.sort_index(axis=1,ascending=False).cumprod(axis=1).sum(axis=1))\n",
    "\n",
    "def sample_V_rec(R1, years, sample_size, p, c, yearly_investment=1000):\n",
    "    temp = []\n",
    "    for i in range(sample_size):\n",
    "        V = 0\n",
    "        for k in range(years):\n",
    "            frac = p*(1-c*(k)/30)\n",
    "            V = (yearly_investment + V)*frac*R1.iloc[i,k] + (1-frac)*(yearly_investment + V)*R0\n",
    "        temp.append(V)\n",
    "    return pd.DataFrame(temp)\n",
    "\n",
    "def sample_V_TI(R1, years, sample_size, r_bar, yearly_investment=1000):\n",
    "    G = np.array([yearly_investment*np.exp(r_bar*(j+1)) for j in range(years)]).cumsum()\n",
    "    phi = G + (yearly_investment - G*np.exp(-r))*R1#(R0-R1)*G*np.exp(-r) + yearly_investment*np.exp(-r)*R1\n",
    "    \n",
    "    R1_aug = R1.shift(-1, axis=1)\n",
    "    R1_aug[years-1] = 1\n",
    "\n",
    "    return pd.DataFrame((phi * R1_aug.sort_index(axis=1, ascending=False).cumprod(axis=1).sort_index(axis=1)).sum(axis=1))\n",
    "\n",
    "def sample_V_TI_rec(R1, years, sample_size, r_bar, yearly_investment=1000):\n",
    "    temp = []\n",
    "    for i in range(sample_size):\n",
    "        V = 0\n",
    "        for k in range(years):\n",
    "            G = sum([yearly_investment*np.exp(r_bar*(j+1)) for j in range(k+1)])\n",
    "            V = (V + yearly_investment - G*np.exp(-r))*R1.iloc[i,k] + G*np.exp(-r)*R0\n",
    "        temp.append(V)\n",
    "\n",
    "    return pd.DataFrame(temp)\n",
    "\n",
    "def sample_V_lev(R1, years, sample_size, r_bar, leverage=1, yearly_investment=1000):\n",
    "    V_list = []\n",
    "    for i in range(sample_size):\n",
    "        V = 0\n",
    "        strat = True\n",
    "        for k in range(years):\n",
    "            G = sum([yearly_investment*np.exp(r_bar*(j+1)) for j in range(k+1)])\n",
    "            if strat:\n",
    "                V = (V + yearly_investment - leverage*(V + yearly_investment - G*np.exp(-r)))*R0 + leverage*(V + yearly_investment - G*np.exp(-r))*R1.iloc[i,k]\n",
    "            else:\n",
    "                V = V + 1000\n",
    "            if G>V:\n",
    "                strat = False\n",
    "            else:\n",
    "                strat = True\n",
    "        V_list.append(V)\n",
    "        \n",
    "    return pd.DataFrame(V_list)\n",
    "\n",
    "def emp_dist(x, samples):\n",
    "    ind = samples < x\n",
    "    return (ind.sum()/samples.shape[0])[0]\n",
    "\n",
    "def plot_emp_dist(samples):\n",
    "    pass\n",
    "\n",
    "def emp_quantile(p, samples):\n",
    "    samples = samples.sort_values(by=0)\n",
    "    #+1 since we want ceil\n",
    "    ind = int(samples.shape[0]*(1-p) + 1)\n",
    "    return samples.loc[ind][0]"
   ]
  },
  {
   "cell_type": "code",
   "execution_count": 628,
   "id": "daf2c250-e052-4073-bb46-1c0538750cf8",
   "metadata": {},
   "outputs": [],
   "source": [
    "sample_size = int(1e4)\n",
    "years = 30\n",
    "my, sigma = 0.03, 0.2\n",
    "\n",
    "Z = pd.DataFrame(np.random.standard_normal(size=(sample_size,years)))\n",
    "R1 = np.exp(my + sigma*Z)"
   ]
  },
  {
   "cell_type": "code",
   "execution_count": 473,
   "id": "0004fab2-1319-4eb7-b9de-da3b44cb133b",
   "metadata": {},
   "outputs": [],
   "source": [
    "#p, c = 1e-5, 5e-1\n",
    "dives = 3\n",
    "high = 1\n",
    "low = 0\n",
    "for d in range(dives):\n",
    "    V_30s = []\n",
    "    params = np.random.uniform(high = high, low = low, size=(10000,2))\n",
    "    for p,c in params:    \n",
    "        V_30 = sample_V(R1, years, sample_size,p, c, yearly_investment=1000)\n",
    "        mean = V_30.mean()\n",
    "        var = V_30.var()\n",
    "        V_30s.append((mean - 0.5*var)[0])\n",
    "        #V_30.plot.hist(bins=50)\n",
    "    V_30s = pd.DataFrame(V_30s)\n",
    "    high = params[V_30s.sort_values(by=0).index[-10:]].max(axis=0)\n",
    "    low = params[V_30s.sort_values(by=0).index[-10:]].min(axis=0)"
   ]
  },
  {
   "cell_type": "code",
   "execution_count": 606,
   "id": "30ec6112-0e87-4028-a19b-cb1f31fb8af1",
   "metadata": {},
   "outputs": [
    {
     "data": {
      "text/plain": [
       "array([[9.17847886e-05, 8.20949638e-01],\n",
       "       [9.15230590e-05, 8.19290692e-01],\n",
       "       [9.15852482e-05, 8.20018374e-01],\n",
       "       [9.16073136e-05, 8.20179244e-01],\n",
       "       [9.17149555e-05, 8.20192677e-01],\n",
       "       [9.17219220e-05, 8.20278183e-01],\n",
       "       [9.15793926e-05, 8.19546196e-01],\n",
       "       [9.16700688e-05, 8.20437066e-01],\n",
       "       [9.17096874e-05, 8.20272362e-01],\n",
       "       [9.16939071e-05, 8.20187072e-01]])"
      ]
     },
     "execution_count": 606,
     "metadata": {},
     "output_type": "execute_result"
    }
   ],
   "source": [
    "#Clearly small p of order 1e-5 and c of order 1e-1 gives good mean variance max.\n",
    "params[V_30s.sort_values(by=0).index[-10:]]"
   ]
  },
  {
   "cell_type": "code",
   "execution_count": 607,
   "id": "f722b0bf-5ca9-44fb-b565-6a8d2b453ee9",
   "metadata": {},
   "outputs": [
    {
     "name": "stdout",
     "output_type": "stream",
     "text": [
      "Mean: 35164.41446290576, 1% Quantile: 35162.56391473175\n"
     ]
    }
   ],
   "source": [
    "p, c = params[V_30s.sort_values(by=0).index[-1:]][0]\n",
    "V_30 = sample_V(R1, years, sample_size,p, c, yearly_investment=1000)\n",
    "print(f'Mean: {V_30.mean()[0]}, 1% Quantile: {emp_quantile(0.01, V_30)}')"
   ]
  },
  {
   "cell_type": "code",
   "execution_count": 435,
   "id": "31f728de-6561-4630-b415-4ba100bf378d",
   "metadata": {},
   "outputs": [],
   "source": [
    "def plot_emp_dist(samples, sample_lenght=10):\n",
    "    samples = samples.sort_values(by=0)\n",
    "    h = sample_lenght*samples.shape[0]\n",
    "    interval = samples.iloc[-1][0] - samples.iloc[0][0]\n",
    "    delta = interval/h\n",
    "    \n",
    "    x = [samples.iloc[0][0] + i*delta for i in range(h)]\n",
    "    y = [emp_dist(i, samples) for i in x]\n",
    "\n",
    "    return x,y\n",
    "x,y = plot_emp_dist(V_30)"
   ]
  },
  {
   "cell_type": "code",
   "execution_count": 487,
   "id": "92328db6-1e02-409c-b6c5-fbe3bd5d5d60",
   "metadata": {},
   "outputs": [
    {
     "data": {
      "text/plain": [
       "<AxesSubplot:>"
      ]
     },
     "execution_count": 487,
     "metadata": {},
     "output_type": "execute_result"
    },
    {
     "data": {
      "image/png": "[encoded data removed]",
      "text/plain": [
       "<Figure size 432x288 with 1 Axes>"
      ]
     },
     "metadata": {
      "needs_background": "light"
     },
     "output_type": "display_data"
    }
   ],
   "source": [
    "pd.DataFrame(y, index = x).plot()"
   ]
  },
  {
   "cell_type": "code",
   "execution_count": 441,
   "id": "72fcb528-fa00-415b-aebf-16ddfc85b71d",
   "metadata": {},
   "outputs": [
    {
     "name": "stdout",
     "output_type": "stream",
     "text": [
      "Mean: 35161.24940382561, 1% Quantile: 35161.51825827211\n"
     ]
    }
   ],
   "source": [
    "V_30_rec = sample_V_rec(R1, years, sample_size,p, c, yearly_investment=1000)\n",
    "print(f'Mean: {V_30_rec.mean()[0]}, 1% Quantile: {emp_quantile(0.01, V_30_rec)}')"
   ]
  },
  {
   "cell_type": "code",
   "execution_count": 442,
   "id": "9d220a78-40c6-4834-a2e0-1a9d45463df0",
   "metadata": {},
   "outputs": [
    {
     "name": "stdout",
     "output_type": "stream",
     "text": [
      "Mean: 36886.04525556673, 1% Quantile: 41980.43456569122\n"
     ]
    }
   ],
   "source": [
    "r_bar = 0.005\n",
    "\n",
    "V_30_TI = sample_V_TI(R1, years, sample_size, r_bar)\n",
    "#V_30_TI.plot.hist(bins=50)\n",
    "print(f'Mean: {V_30_TI.mean()[0]}, 1% Quantile: {emp_quantile(0.01, V_30_TI)}')"
   ]
  },
  {
   "cell_type": "code",
   "execution_count": 443,
   "id": "b6158f32-ad10-49c2-9c76-3de5be3e9cbf",
   "metadata": {},
   "outputs": [
    {
     "name": "stdout",
     "output_type": "stream",
     "text": [
      "Mean: 36886.04525556668, 1% Quantile: 41980.43456569116\n"
     ]
    }
   ],
   "source": [
    "V_30_TI_rec = sample_V_TI_rec(R1, years, sample_size, r_bar)\n",
    "#V_30_TI_rec.plot.hist(bins=50)\n",
    "print(f'Mean: {V_30_TI_rec.mean()[0]}, 1% Quantile: {emp_quantile(0.01, V_30_TI_rec)}')"
   ]
  },
  {
   "cell_type": "code",
   "execution_count": 629,
   "id": "a8417612-42b0-4b44-a29d-ddc1dff5bece",
   "metadata": {},
   "outputs": [
    {
     "name": "stdout",
     "output_type": "stream",
     "text": [
      "Mean: 42700.94941860083, Median: 33235.295454055915, 1% Quantile: 35642.81890841246\n"
     ]
    },
    {
     "data": {
      "text/plain": [
       "<AxesSubplot:ylabel='Frequency'>"
      ]
     },
     "execution_count": 629,
     "metadata": {},
     "output_type": "execute_result"
    },
    {
     "data": {
      "image/png": "[encoded data removed]",
      "text/plain": [
       "<Figure size 432x288 with 1 Axes>"
      ]
     },
     "metadata": {
      "needs_background": "light"
     },
     "output_type": "display_data"
    }
   ],
   "source": [
    "r_bar = 0.005\n",
    "sample_lev = sample_V_lev(R1, years, sample_size, r_bar, leverage=3)\n",
    "print(f'Mean: {sample_lev.mean()[0]}, Median: {sample_lev.median()[0]}, 1% Quantile: {emp_quantile(0.01, sample_lev)}')\n",
    "sample_lev.plot.hist(bins=50)"
   ]
  },
  {
   "cell_type": "code",
   "execution_count": 630,
   "id": "8818366e-7746-4b2a-81d5-e45c6dcc1cac",
   "metadata": {},
   "outputs": [],
   "source": [
    "data = yf.Ticker(\"SPY\").history(period=\"MAX\")\n",
    "close = data['Close']\n",
    "rets = close.pct_change(25) # montly return\n",
    "rets = rets[25:] + 1"
   ]
  },
  {
   "cell_type": "code",
   "execution_count": 631,
   "id": "36100ec0-ad6e-4459-b9d5-e478b0123bd8",
   "metadata": {},
   "outputs": [],
   "source": [
    "months = 12 #Month in 30 years\n",
    "sample_size = int(1e7)\n",
    "yearly_historical = pd.DataFrame(np.random.choice(rets.values, size=(sample_size, months), replace=True)).prod(axis=1)"
   ]
  },
  {
   "cell_type": "code",
   "execution_count": 632,
   "id": "fd09b622-2ef1-4508-8cce-8db15af6df70",
   "metadata": {},
   "outputs": [],
   "source": [
    "sample_size = int(1e4)\n",
    "years = 30\n",
    "R1 = pd.DataFrame(np.random.choice(yearly_historical.values, size=(sample_size, years), replace=True))"
   ]
  },
  {
   "cell_type": "code",
   "execution_count": 635,
   "id": "eeb74708-c65f-4a49-b853-ea35755b7c86",
   "metadata": {},
   "outputs": [],
   "source": [
    "dives = 3\n",
    "high = 1\n",
    "low = 0\n",
    "for d in range(dives):\n",
    "    V_30s = []\n",
    "    params = np.random.uniform(high = high, low = low, size=(10000,2))\n",
    "    for p,c in params:    \n",
    "        V_30 = sample_V(R1, years, sample_size,p, c, yearly_investment=1000)\n",
    "        mean = V_30.mean()\n",
    "        var = V_30.var()\n",
    "        V_30s.append((mean - 0.5*var)[0])\n",
    "        #V_30.plot.hist(bins=50)\n",
    "    V_30s = pd.DataFrame(V_30s)\n",
    "    high = params[V_30s.sort_values(by=0).index[-10:]].max(axis=0)\n",
    "    low = params[V_30s.sort_values(by=0).index[-10:]].min(axis=0)"
   ]
  },
  {
   "cell_type": "code",
   "execution_count": 636,
   "id": "54a85e3e-2187-47bc-94ff-17bb7ded78af",
   "metadata": {},
   "outputs": [
    {
     "name": "stdout",
     "output_type": "stream",
     "text": [
      "Mean: 35173.99525042523, Median: 0    35173.932857\n",
      "dtype: float64, 1% Quantile: 35173.55000902971\n"
     ]
    },
    {
     "data": {
      "text/plain": [
       "<AxesSubplot:ylabel='Frequency'>"
      ]
     },
     "execution_count": 636,
     "metadata": {},
     "output_type": "execute_result"
    },
    {
     "data": {
      "image/png": "[encoded data removed]",
      "text/plain": [
       "<Figure size 432x288 with 1 Axes>"
      ]
     },
     "metadata": {
      "needs_background": "light"
     },
     "output_type": "display_data"
    }
   ],
   "source": [
    "p, c = params[V_30s.sort_values(by=0).index[-1:]][0]\n",
    "V_30 = sample_V(R1, years, sample_size, p, c, yearly_investment=1000)\n",
    "print(f'Mean: {V_30.mean()[0]}, Median: {V_30.median()}, 1% Quantile: {emp_quantile(0.01, V_30)}')\n",
    "V_30.plot.hist(bins=50)"
   ]
  },
  {
   "cell_type": "code",
   "execution_count": 619,
   "id": "ad41ec22-9b6c-412d-89ac-7831ab2ed57e",
   "metadata": {},
   "outputs": [
    {
     "name": "stdout",
     "output_type": "stream",
     "text": [
      "Mean: 49162.617527543756, 1% Quantile: 57630.652510335436\n"
     ]
    },
    {
     "data": {
      "text/plain": [
       "<AxesSubplot:ylabel='Frequency'>"
      ]
     },
     "execution_count": 619,
     "metadata": {},
     "output_type": "execute_result"
    },
    {
     "data": {
      "image/png": "[encoded data removed]",
      "text/plain": [
       "<Figure size 432x288 with 1 Axes>"
      ]
     },
     "metadata": {
      "needs_background": "light"
     },
     "output_type": "display_data"
    }
   ],
   "source": [
    "V_30_TI = sample_V_TI(R1, years, sample_size, r_bar)\n",
    "print(f'Mean: {V_30_TI.mean()[0]}, 1% Quantile: {emp_quantile(0.01, V_30_TI)}')\n",
    "V_30_TI.plot.hist(bins=50)"
   ]
  },
  {
   "cell_type": "code",
   "execution_count": 626,
   "id": "7066c9b7-8cbe-49d6-beb5-7da9accf4709",
   "metadata": {},
   "outputs": [
    {
     "name": "stdout",
     "output_type": "stream",
     "text": [
      "Mean: 1910218.6815279613, Median: 181850.29781548798, 1% Quantile: 2159392.3914305475\n"
     ]
    },
    {
     "data": {
      "text/plain": [
       "<AxesSubplot:ylabel='Frequency'>"
      ]
     },
     "execution_count": 626,
     "metadata": {},
     "output_type": "execute_result"
    },
    {
     "data": {
      "image/png": "[encoded data removed]",
      "text/plain": [
       "<Figure size 432x288 with 1 Axes>"
      ]
     },
     "metadata": {
      "needs_background": "light"
     },
     "output_type": "display_data"
    }
   ],
   "source": [
    "sample_lev = sample_V_lev(R1, years, sample_size, r_bar, leverage=3)\n",
    "print(f'Mean: {sample_lev.mean()[0]}, Median: {sample_lev.median()[0]}, 1% Quantile: {emp_quantile(0.01, sample_lev)}')\n",
    "sample_lev.plot.hist(bins=50)"
   ]
  },
  {
   "cell_type": "code",
   "execution_count": null,
   "id": "31843264-1036-432b-9ee0-017afa04f368",
   "metadata": {},
   "outputs": [],
   "source": []
  }
 ],
 "metadata": {
  "kernelspec": {
   "display_name": "Python 3",
   "language": "python",
   "name": "python3"
  },
  "language_info": {
   "codemirror_mode": {
    "name": "ipython",
    "version": 3
   },
   "file_extension": ".py",
   "mimetype": "text/x-python",
   "name": "python",
   "nbconvert_exporter": "python",
   "pygments_lexer": "ipython3",
   "version": "3.6.12"
  }
 },
 "nbformat": 4,
 "nbformat_minor": 5
}
