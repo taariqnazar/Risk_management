{
 "cells": [
  {
   "cell_type": "code",
   "execution_count": 1,
   "id": "fff4bc00-88ed-4c27-87eb-d03c0e826518",
   "metadata": {},
   "outputs": [],
   "source": [
    "import pandas as pd\n",
    "import numpy as np\n",
    "import matplotlib.pyplot as plt"
   ]
  },
  {
   "cell_type": "code",
   "execution_count": 3,
   "id": "87a7a538-b7f1-4b3b-80fe-3b5f986ac078",
   "metadata": {},
   "outputs": [],
   "source": [
    "#Yearly interest\n",
    "r = 0.01\n",
    "R0 = np.exp(r)"
   ]
  },
  {
   "cell_type": "code",
   "execution_count": 272,
   "id": "c22af559-9fe0-4d03-aefe-3a4d46dabc57",
   "metadata": {},
   "outputs": [],
   "source": [
    "def sample_V(R1, years, sample_size, p, c, yearly_investment=1000):\n",
    "    frac = lambda k: p*(1-c*(k-1)/30)\n",
    "    q = np.array([frac(i) for i in range(30)])\n",
    "    phi = q*(R1 - R0) + R0\n",
    "    return pd.DataFrame(yearly_investment*phi.sort_index(axis=1,ascending=False).cumprod(axis=1).sum(axis=1))\n",
    "\n",
    "def sample_V_rec(R1, years, sample_size, p, c, yearly_investment=1000):\n",
    "    temp = []\n",
    "    for i in range(sample_size):\n",
    "        V = 0\n",
    "        for k in range(years):\n",
    "            frac = p*(1-c*(k)/30)\n",
    "            V = (yearly_investment + V)*frac*R1.iloc[i,k] + (1-frac)*(yearly_investment + V)*R0\n",
    "        temp.append(V)\n",
    "    return pd.DataFrame(temp)\n",
    "\n",
    "def sample_V_TI(R1, years, sample_size, r_bar, yearly_investment=1000):\n",
    "    G = np.array([yearly_investment*np.exp(r_bar*(j+1)) for j in range(years)]).cumsum()\n",
    "    phi = G + (yearly_investment - G*np.exp(-r))*R1#(R0-R1)*G*np.exp(-r) + yearly_investment*np.exp(-r)*R1\n",
    "    \n",
    "    R1_aug = R1.shift(-1, axis=1)\n",
    "    R1_aug[years-1] = 1\n",
    "\n",
    "    return pd.DataFrame((phi * R1_aug.sort_index(axis=1, ascending=False).cumprod(axis=1).sort_index(axis=1)).sum(axis=1))\n",
    "\n",
    "def sample_V_TI_rec(R1, years, sample_size, r_bar, yearly_investment=1000):\n",
    "    temp = []\n",
    "    for i in range(sample_size):\n",
    "        V = 0\n",
    "        for k in range(years):\n",
    "            G = sum([yearly_investment*np.exp(r_bar*(j+1)) for j in range(k+1)])\n",
    "            V = (V + yearly_investment - G*np.exp(-r))*R1.iloc[i,k] + G*np.exp(-r)*R0\n",
    "        temp.append(V)\n",
    "\n",
    "    return pd.DataFrame(temp)\n",
    "\n",
    "def sample_V_lev(years, sample_size, r_bar, leverage=1, yearly_investment=1000):\n",
    "    V_list = []\n",
    "    for i in range(sample_size):\n",
    "        Z = np.random.standard_normal(size=years)\n",
    "        R1 = np.exp(my + sigma*Z)\n",
    "        V = 0\n",
    "        strat = True\n",
    "        for k in range(years):\n",
    "            G = sum([yearly_investment*np.exp(r_bar*(j+1)) for j in range(k+1)])\n",
    "            if strat:\n",
    "                V_ = (V + yearly_investment - leverage*(V + yearly_investment - G*np.exp(-r)))*R0 + leverage*(V + yearly_investment - G*np.exp(-r))*R1[k]\n",
    "            else:\n",
    "                V_ = V + 1000\n",
    "            V = V_\n",
    "            \n",
    "            if G>V:\n",
    "                strat = False\n",
    "            else:\n",
    "                strat = True\n",
    "                \n",
    "        V_list.append(V)\n",
    "    return pd.DataFrame(V_list)\n",
    "\n",
    "def emp_dist(x, samples):\n",
    "    ind = samples < x\n",
    "    return (ind.sum()/samples.shape[0])[0]\n",
    "\n",
    "def emp_quantile(p, samples):\n",
    "    samples = samples.sort_values(by=0)\n",
    "    #+1 since we want ceil\n",
    "    ind = int(samples.shape[0]*(1-p) + 1)\n",
    "    return samples.loc[ind][0]"
   ]
  },
  {
   "cell_type": "code",
   "execution_count": 273,
   "id": "daf2c250-e052-4073-bb46-1c0538750cf8",
   "metadata": {},
   "outputs": [],
   "source": [
    "sample_size = int(1e4)\n",
    "years = 30\n",
    "my, sigma = 0.03, 0.2\n",
    "\n",
    "Z = pd.DataFrame(np.random.standard_normal(size=(sample_size,years)))\n",
    "R1 = np.exp(my + sigma*Z)"
   ]
  },
  {
   "cell_type": "code",
   "execution_count": 274,
   "id": "0004fab2-1319-4eb7-b9de-da3b44cb133b",
   "metadata": {},
   "outputs": [
    {
     "data": {
      "text/plain": [
       "<AxesSubplot:ylabel='Frequency'>"
      ]
     },
     "execution_count": 274,
     "metadata": {},
     "output_type": "execute_result"
    },
    {
     "data": {
      "image/png": "[encoded data removed]",
      "text/plain": [
       "<Figure size 432x288 with 1 Axes>"
      ]
     },
     "metadata": {
      "needs_background": "light"
     },
     "output_type": "display_data"
    }
   ],
   "source": [
    "p, c = 1e-5, 5e-1\n",
    "\n",
    "V_30 = sample_V(R1, years, sample_size,p, c, yearly_investment=1000)\n",
    "V_30.plot.hist(bins=50)"
   ]
  },
  {
   "cell_type": "code",
   "execution_count": 275,
   "id": "72fcb528-fa00-415b-aebf-16ddfc85b71d",
   "metadata": {},
   "outputs": [
    {
     "data": {
      "text/plain": [
       "<AxesSubplot:ylabel='Frequency'>"
      ]
     },
     "execution_count": 275,
     "metadata": {},
     "output_type": "execute_result"
    },
    {
     "data": {
      "image/png": "[encoded data removed]",
      "text/plain": [
       "<Figure size 432x288 with 1 Axes>"
      ]
     },
     "metadata": {
      "needs_background": "light"
     },
     "output_type": "display_data"
    }
   ],
   "source": [
    "V_30_rec = sample_V_rec(R1, years, sample_size,p, c, yearly_investment=1000)\n",
    "V_30_rec.plot.hist(bins=50)"
   ]
  },
  {
   "cell_type": "code",
   "execution_count": 276,
   "id": "9d220a78-40c6-4834-a2e0-1a9d45463df0",
   "metadata": {},
   "outputs": [
    {
     "data": {
      "text/plain": [
       "<AxesSubplot:ylabel='Frequency'>"
      ]
     },
     "execution_count": 276,
     "metadata": {},
     "output_type": "execute_result"
    },
    {
     "data": {
      "image/png": "[encoded data removed]",
      "text/plain": [
       "<Figure size 432x288 with 1 Axes>"
      ]
     },
     "metadata": {
      "needs_background": "light"
     },
     "output_type": "display_data"
    }
   ],
   "source": [
    "r_bar = 0.005\n",
    "\n",
    "V_30_TI = sample_V_TI(R1, years, sample_size, r_bar)\n",
    "V_30_TI.plot.hist(bins=50)"
   ]
  },
  {
   "cell_type": "code",
   "execution_count": 278,
   "id": "b6158f32-ad10-49c2-9c76-3de5be3e9cbf",
   "metadata": {},
   "outputs": [
    {
     "data": {
      "text/plain": [
       "<AxesSubplot:ylabel='Frequency'>"
      ]
     },
     "execution_count": 278,
     "metadata": {},
     "output_type": "execute_result"
    },
    {
     "data": {
      "image/png": "[encoded data removed]",
      "text/plain": [
       "<Figure size 432x288 with 1 Axes>"
      ]
     },
     "metadata": {
      "needs_background": "light"
     },
     "output_type": "display_data"
    }
   ],
   "source": [
    "V_30_TI_rec = sample_V_TI_rec(R1, years, sample_size, r_bar)\n",
    "V_30_TI_rec.plot.hist(bins=50)"
   ]
  },
  {
   "cell_type": "code",
   "execution_count": 180,
   "id": "a8417612-42b0-4b44-a29d-ddc1dff5bece",
   "metadata": {},
   "outputs": [
    {
     "data": {
      "text/plain": [
       "<AxesSubplot:ylabel='Frequency'>"
      ]
     },
     "execution_count": 180,
     "metadata": {},
     "output_type": "execute_result"
    },
    {
     "data": {
      "image/png": "[encoded data removed]",
      "text/plain": [
       "<Figure size 432x288 with 1 Axes>"
      ]
     },
     "metadata": {
      "needs_background": "light"
     },
     "output_type": "display_data"
    }
   ],
   "source": [
    "r_bar = 0.005\n",
    "sample_lev = sample_V_lev(years, sample_size, r_bar, leverage=2)\n",
    "sample_lev.plot.hist(bins=50)"
   ]
  },
  {
   "cell_type": "code",
   "execution_count": null,
   "id": "7f06618a-3481-4b1f-a7c5-c4f1a3caa2bf",
   "metadata": {},
   "outputs": [],
   "source": []
  }
 ],
 "metadata": {
  "kernelspec": {
   "display_name": "Python 3",
   "language": "python",
   "name": "python3"
  },
  "language_info": {
   "codemirror_mode": {
    "name": "ipython",
    "version": 3
   },
   "file_extension": ".py",
   "mimetype": "text/x-python",
   "name": "python",
   "nbconvert_exporter": "python",
   "pygments_lexer": "ipython3",
   "version": "3.6.12"
  }
 },
 "nbformat": 4,
 "nbformat_minor": 5
}
