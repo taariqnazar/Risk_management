{
 "cells": [
  {
   "cell_type": "code",
   "execution_count": 1,
   "id": "fff4bc00-88ed-4c27-87eb-d03c0e826518",
   "metadata": {},
   "outputs": [],
   "source": [
    "import pandas as pd\n",
    "import numpy as np\n",
    "import matplotlib.pyplot as plt"
   ]
  },
  {
   "cell_type": "code",
   "execution_count": 3,
   "id": "87a7a538-b7f1-4b3b-80fe-3b5f986ac078",
   "metadata": {},
   "outputs": [],
   "source": [
    "#Yearly interest\n",
    "r = 0.01\n",
    "R0 = np.exp(r)"
   ]
  },
  {
   "cell_type": "code",
   "execution_count": 11,
   "id": "c22af559-9fe0-4d03-aefe-3a4d46dabc57",
   "metadata": {},
   "outputs": [],
   "source": [
    "def sample_V(years, sample_size, my, sigma, p, c, yearly_investment=1000):\n",
    "    frac = lambda k: p*(1-c*(k-1)/30)\n",
    "    q = np.array([frac(i) for i in range(30)])\n",
    "    \n",
    "    Z = pd.DataFrame(np.random.standard_normal(size=(sample_size,years)))\n",
    "    R1 = np.exp(my + sigma*Z)\n",
    "    phi = q*(R1 - R0) + R0\n",
    "    return pd.DataFrame(yearly_investment*phi.sort_index(axis=1,ascending=False).cumprod(axis=1).sum(axis=1))\n",
    "\n",
    "def sample_V_TI(years, sample_size, r_bar, yearly_investment=1000):\n",
    "    Z = pd.DataFrame(np.random.standard_normal(size=(sample_size,years)))\n",
    "    R1 = np.exp(my + sigma*Z)\n",
    "    G = np.array([yearly_investment*np.exp(r_bar*(j+1)) for j in range(years)]).cumsum()\n",
    "    phi = (R0-R1)*G*np.exp(-r) + yearly_investment*np.exp(-r)*R1\n",
    "    \n",
    "    R1_aug = R1.shift(-1, axis=1)\n",
    "    R1_aug[years-1] = 1\n",
    "\n",
    "    return pd.DataFrame((phi * R1_aug.sort_index(axis=1, ascending=False).cumprod(axis=1).sort_index(axis=1)).sum(axis=1))\n",
    "\n",
    "def emp_dist(x, samples):\n",
    "    ind = samples < x\n",
    "    return (ind.sum()/samples.shape[0])[0]\n",
    "\n",
    "def emp_quantile(p, samples):\n",
    "    samples = samples.sort_values(by=0)\n",
    "    #+1 since we want ceil\n",
    "    ind = int(samples.shape[0]*(1-p) + 1)\n",
    "    return samples.loc[ind][0]"
   ]
  },
  {
   "cell_type": "code",
   "execution_count": 21,
   "id": "0004fab2-1319-4eb7-b9de-da3b44cb133b",
   "metadata": {},
   "outputs": [
    {
     "data": {
      "text/html": [
       "<div>\n",
       "<style scoped>\n",
       "    .dataframe tbody tr th:only-of-type {\n",
       "        vertical-align: middle;\n",
       "    }\n",
       "\n",
       "    .dataframe tbody tr th {\n",
       "        vertical-align: top;\n",
       "    }\n",
       "\n",
       "    .dataframe thead th {\n",
       "        text-align: right;\n",
       "    }\n",
       "</style>\n",
       "<table border=\"1\" class=\"dataframe\">\n",
       "  <thead>\n",
       "    <tr style=\"text-align: right;\">\n",
       "      <th></th>\n",
       "      <th>0</th>\n",
       "    </tr>\n",
       "  </thead>\n",
       "  <tbody>\n",
       "    <tr>\n",
       "      <th>0</th>\n",
       "      <td>35161.301479</td>\n",
       "    </tr>\n",
       "    <tr>\n",
       "      <th>1</th>\n",
       "      <td>35161.064228</td>\n",
       "    </tr>\n",
       "    <tr>\n",
       "      <th>2</th>\n",
       "      <td>35161.276477</td>\n",
       "    </tr>\n",
       "    <tr>\n",
       "      <th>3</th>\n",
       "      <td>35161.230443</td>\n",
       "    </tr>\n",
       "    <tr>\n",
       "      <th>4</th>\n",
       "      <td>35161.386042</td>\n",
       "    </tr>\n",
       "    <tr>\n",
       "      <th>...</th>\n",
       "      <td>...</td>\n",
       "    </tr>\n",
       "    <tr>\n",
       "      <th>9995</th>\n",
       "      <td>35161.125765</td>\n",
       "    </tr>\n",
       "    <tr>\n",
       "      <th>9996</th>\n",
       "      <td>35161.206319</td>\n",
       "    </tr>\n",
       "    <tr>\n",
       "      <th>9997</th>\n",
       "      <td>35161.302966</td>\n",
       "    </tr>\n",
       "    <tr>\n",
       "      <th>9998</th>\n",
       "      <td>35161.147032</td>\n",
       "    </tr>\n",
       "    <tr>\n",
       "      <th>9999</th>\n",
       "      <td>35161.379031</td>\n",
       "    </tr>\n",
       "  </tbody>\n",
       "</table>\n",
       "<p>10000 rows × 1 columns</p>\n",
       "</div>"
      ],
      "text/plain": [
       "                 0\n",
       "0     35161.301479\n",
       "1     35161.064228\n",
       "2     35161.276477\n",
       "3     35161.230443\n",
       "4     35161.386042\n",
       "...            ...\n",
       "9995  35161.125765\n",
       "9996  35161.206319\n",
       "9997  35161.302966\n",
       "9998  35161.147032\n",
       "9999  35161.379031\n",
       "\n",
       "[10000 rows x 1 columns]"
      ]
     },
     "execution_count": 21,
     "metadata": {},
     "output_type": "execute_result"
    }
   ],
   "source": [
    "sample_size = int(1e4)\n",
    "years = 30\n",
    "my, sigma = 0.03, 0.2\n",
    "p, c = 1e-5, 5e-1\n",
    "\n",
    "V_30 = sample_V(years, sample_size, my, sigma,p, c, yearly_investment=1000)\n",
    "emp_dist(85*1e3,V_30)\n",
    "emp_quantile(0.01, V_30)\n",
    "V_30"
   ]
  },
  {
   "cell_type": "code",
   "execution_count": 256,
   "id": "8d237402-3563-4c34-9549-771773e84924",
   "metadata": {},
   "outputs": [],
   "source": [
    "params = np.random.uniform(size=(10000,2))\n",
    "sharpe = []\n",
    "for p,c in params:\n",
    "    V_30 = sample_V(years, sample_size, my, sigma,p, c, yearly_investment=1000)\n",
    "    sharpe.append(V_30.mean()/V_30.std())"
   ]
  },
  {
   "cell_type": "code",
   "execution_count": 307,
   "id": "ab131382-e183-4d7d-a387-68aa7acf7cf2",
   "metadata": {},
   "outputs": [
    {
     "name": "stdout",
     "output_type": "stream",
     "text": [
      "0.0\n"
     ]
    },
    {
     "data": {
      "text/plain": [
       "<AxesSubplot:ylabel='Frequency'>"
      ]
     },
     "execution_count": 307,
     "metadata": {},
     "output_type": "execute_result"
    },
    {
     "data": {
      "image/png": "[encoded data removed]",
      "text/plain": [
       "<Figure size 432x288 with 1 Axes>"
      ]
     },
     "metadata": {
      "needs_background": "light"
     },
     "output_type": "display_data"
    }
   ],
   "source": [
    "inds = pd.DataFrame(sharpe).sort_values(by=0)[-10:].index\n",
    "p,c = 0, 0.1 #params[inds][-1]\n",
    "V_30 = sample_V(years, sample_size, my, sigma,p, c, yearly_investment=1000)\n",
    "frac = lambda k: p*(1-c*(k-1)/30)\n",
    "print(frac(30))\n",
    "V_30.plot.hist(bins=100)"
   ]
  },
  {
   "cell_type": "code",
   "execution_count": 69,
   "id": "9d220a78-40c6-4834-a2e0-1a9d45463df0",
   "metadata": {},
   "outputs": [],
   "source": [
    "sample_size = int(1e5)\n",
    "years = 30\n",
    "r_bar = 0.005\n",
    "V_30_TI = sample_V_TI(years, sample_size, r_bar)"
   ]
  },
  {
   "cell_type": "code",
   "execution_count": 70,
   "id": "a1d20a58-29df-44eb-b45d-d79589b35cca",
   "metadata": {},
   "outputs": [
    {
     "data": {
      "text/plain": [
       "0    36150.048866\n",
       "dtype: float64"
      ]
     },
     "execution_count": 70,
     "metadata": {},
     "output_type": "execute_result"
    },
    {
     "data": {
      "image/png": "[encoded data removed]",
      "text/plain": [
       "<Figure size 432x288 with 1 Axes>"
      ]
     },
     "metadata": {
      "needs_background": "light"
     },
     "output_type": "display_data"
    }
   ],
   "source": [
    "V_30_TI.plot.hist(bins=50)\n",
    "V_30_TI.mean()"
   ]
  },
  {
   "cell_type": "code",
   "execution_count": 26,
   "id": "dc3dca2d-f05a-4c73-b97f-255814bf341b",
   "metadata": {},
   "outputs": [
    {
     "data": {
      "text/plain": [
       "0    35161.261278\n",
       "dtype: float64"
      ]
     },
     "execution_count": 26,
     "metadata": {},
     "output_type": "execute_result"
    },
    {
     "data": {
      "image/png": "[encoded data removed]",
      "text/plain": [
       "<Figure size 432x288 with 1 Axes>"
      ]
     },
     "metadata": {
      "needs_background": "light"
     },
     "output_type": "display_data"
    }
   ],
   "source": [
    "V_30.plot.hist(bins=50)\n",
    "V_30.mean()"
   ]
  },
  {
   "cell_type": "code",
   "execution_count": 71,
   "id": "a8417612-42b0-4b44-a29d-ddc1dff5bece",
   "metadata": {},
   "outputs": [],
   "source": [
    "sample_size = int(1e5)\n",
    "years = 30\n",
    "r_bar = 0.005\n",
    "def sample_V_lev(years, sample_size, r_bar, levrage=1, yearly_investment=1000):\n",
    "    V_list = []\n",
    "    for i in range(sample_size):\n",
    "        Z = np.random.standard_normal(size=years)\n",
    "        R1 = np.exp(my + sigma*Z)\n",
    "        V = 0\n",
    "        for i in range(years):\n",
    "            G = sum([yearly_investment*np.exp(r_bar*(j+1)) for j in range(i+1)])\n",
    "            V = G*np.exp(-r)*R0 + (V + yearly_investment - G*np.exp(-r))*R1[i]\n",
    "        V_list.append(V)\n",
    "    \n",
    "    return pd.DataFrame(V_list)"
   ]
  },
  {
   "cell_type": "code",
   "execution_count": 72,
   "id": "a70fc1c4-d483-4cfb-9c28-c64ec20961e4",
   "metadata": {},
   "outputs": [
    {
     "data": {
      "text/plain": [
       "<AxesSubplot:ylabel='Frequency'>"
      ]
     },
     "execution_count": 72,
     "metadata": {},
     "output_type": "execute_result"
    },
    {
     "data": {
      "image/png": "[encoded data removed]",
      "text/plain": [
       "<Figure size 432x288 with 1 Axes>"
      ]
     },
     "metadata": {
      "needs_background": "light"
     },
     "output_type": "display_data"
    }
   ],
   "source": [
    "sample_V_lev(years, sample_size, r_bar).plot.hist(bins=50)"
   ]
  },
  {
   "cell_type": "code",
   "execution_count": null,
   "id": "f969b6ca-9432-4796-b3ab-688bde1135a6",
   "metadata": {},
   "outputs": [],
   "source": []
  }
 ],
 "metadata": {
  "kernelspec": {
   "display_name": "Python 3",
   "language": "python",
   "name": "python3"
  },
  "language_info": {
   "codemirror_mode": {
    "name": "ipython",
    "version": 3
   },
   "file_extension": ".py",
   "mimetype": "text/x-python",
   "name": "python",
   "nbconvert_exporter": "python",
   "pygments_lexer": "ipython3",
   "version": "3.6.12"
  }
 },
 "nbformat": 4,
 "nbformat_minor": 5
}
