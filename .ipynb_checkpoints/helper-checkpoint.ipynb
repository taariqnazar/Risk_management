{
 "cells": [
  {
   "cell_type": "markdown",
   "id": "77007b63-f430-49f6-80c8-eb5923b681a6",
   "metadata": {},
   "source": [
    "Determine a function f such that the value of the pension savings in 30 years can be expressed as $V_{30} = f(μ,σ,p,c,Z_1,...,Z_{30})$. Then \n",
    "1. simulate a sample of suitable size n from the distribution of $(Z_1, . . . , Z_{30})$ and,\n",
    "2. use this sample to determine the empirical distribution $F_n$ of $V_{30}$ for a range of values of the parameters μ, σ, p, c."
   ]
  },
  {
   "cell_type": "markdown",
   "id": "6eb9d990-fa3e-4e22-84a0-49cee6aa1837",
   "metadata": {},
   "source": [
    "Add section to import function HW2.ipynb to here instead,  unfortunely to do this we need to run the inital code which is not optimal\n"
   ]
  },
  {
   "cell_type": "code",
   "execution_count": 1,
   "id": "26a577d8-c93a-4e14-a6f1-ac4d896b34e2",
   "metadata": {},
   "outputs": [],
   "source": [
    "# Step 0: Import packages\n",
    "import numpy as np\n",
    "import pandas as pd\n",
    "import matplotlib.pyplot as plt\n"
   ]
  },
  {
   "cell_type": "code",
   "execution_count": 2,
   "id": "5d7c5ec9-a402-47f7-b305-16b3b6f49ecf",
   "metadata": {},
   "outputs": [],
   "source": [
    "# Step 1: Create the portfolio function\n",
    "def sample_V(R1, years, sample_size, p, c, yearly_investment=1000):\n",
    "    frac = lambda k: p*(1-c*(k-1)/30)\n",
    "    q = np.array([frac(i+1) for i in range(30)])\n",
    "    phi = q*(R1 - R0) + R0\n",
    "    return pd.DataFrame(yearly_investment*phi.sort_index(axis=1,ascending=False).cumprod(axis=1).sum(axis=1))\n"
   ]
  },
  {
   "cell_type": "code",
   "execution_count": 3,
   "id": "ca57a935-3c35-47c7-a55c-074cd0e5878c",
   "metadata": {},
   "outputs": [],
   "source": [
    "# Step 2: Initiate the constants to find a suitable size n\n",
    "r = 0.01; R0 = np.exp(r); # Bank Account, i.e., risk free asset (zero coupon bond)\n",
    "n = 1000\n",
    "sample_sizes = np.array([i for i in range(n)]) # Sequence 1:10000\n",
    "years = 30\n",
    "my, sigma = 0.03, 0.2\n",
    "p, c = 1e-5, 5e-1\n"
   ]
  },
  {
   "cell_type": "code",
   "execution_count": 4,
   "id": "e216451d-1263-4644-a90e-c3bd5138d24e",
   "metadata": {},
   "outputs": [],
   "source": [
    "# Step 3: Calculate the mean value such it is stable\n",
    "\n",
    "def mean(x):\n",
    "    return sum(x)/len(x)\n",
    "\n",
    "store_mean = np.zeros(n) # Store the mean value of V30 for n = 1:10000\n",
    "for i in range(0,n):\n",
    "    Z = pd.DataFrame(np.random.standard_normal(size=(i+1,years))) # i + 1 because python starts at 0\n",
    "    R1 = np.exp(my + sigma*Z)\n",
    "    V30 = sample_V(R1, years, i+1, p, c, yearly_investment=1000)\n",
    "    store_mean[i] = mean(np.array(V30))\n"
   ]
  },
  {
   "cell_type": "code",
   "execution_count": 7,
   "id": "d96516b1-e221-4d52-b63f-f07962e8de92",
   "metadata": {},
   "outputs": [
    {
     "data": {
      "image/png": "[encoded data removed]",
      "text/plain": [
       "<Figure size 432x288 with 1 Axes>"
      ]
     },
     "metadata": {
      "needs_background": "light"
     },
     "output_type": "display_data"
    },
    {
     "ename": "AttributeError",
     "evalue": "'list' object has no attribute 'savefig'",
     "output_type": "error",
     "traceback": [
      "\u001b[0;31m---------------------------------------------------------------------------\u001b[0m",
      "\u001b[0;31mAttributeError\u001b[0m                            Traceback (most recent call last)",
      "\u001b[0;32m/var/folders/f3/ht80zjyx5sg52vhgt9yrc5tw0000gn/T/ipykernel_1950/495142149.py\u001b[0m in \u001b[0;36m<module>\u001b[0;34m\u001b[0m\n\u001b[1;32m      4\u001b[0m \u001b[0mplt\u001b[0m\u001b[0;34m.\u001b[0m\u001b[0mylabel\u001b[0m\u001b[0;34m(\u001b[0m\u001b[0;34m'Mean'\u001b[0m\u001b[0;34m)\u001b[0m\u001b[0;34m\u001b[0m\u001b[0;34m\u001b[0m\u001b[0m\n\u001b[1;32m      5\u001b[0m \u001b[0mplt\u001b[0m\u001b[0;34m.\u001b[0m\u001b[0mshow\u001b[0m\u001b[0;34m(\u001b[0m\u001b[0;34m)\u001b[0m\u001b[0;34m\u001b[0m\u001b[0;34m\u001b[0m\u001b[0m\n\u001b[0;32m----> 6\u001b[0;31m \u001b[0mfig\u001b[0m\u001b[0;34m.\u001b[0m\u001b[0msavefig\u001b[0m\u001b[0;34m(\u001b[0m\u001b[0;34m'mean_convergence.jpg'\u001b[0m\u001b[0;34m)\u001b[0m\u001b[0;34m\u001b[0m\u001b[0;34m\u001b[0m\u001b[0m\n\u001b[0m\u001b[1;32m      7\u001b[0m \u001b[0mplt\u001b[0m\u001b[0;34m.\u001b[0m\u001b[0mshow\u001b[0m\u001b[0;34m(\u001b[0m\u001b[0;34m)\u001b[0m\u001b[0;34m\u001b[0m\u001b[0;34m\u001b[0m\u001b[0m\n",
      "\u001b[0;31mAttributeError\u001b[0m: 'list' object has no attribute 'savefig'"
     ]
    }
   ],
   "source": [
    "fig=plt.figure()\n",
    "plt.plot(sample_sizes, store_mean)\n",
    "plt.title('Mean of V30 Versus Sample Size')\n",
    "plt.xlabel('Sample Size')\n",
    "plt.ylabel('Mean')\n",
    "plt.show()\n",
    "fig.savefig('mean_convergence.jpg')\n",
    "plt.show()\n"
   ]
  },
  {
   "cell_type": "code",
   "execution_count": null,
   "id": "0f26645a-3a19-41c0-972a-1d8e5eac638a",
   "metadata": {},
   "outputs": [],
   "source": []
  }
 ],
 "metadata": {
  "kernelspec": {
   "display_name": "Python 3 (ipykernel)",
   "language": "python",
   "name": "python3"
  },
  "language_info": {
   "codemirror_mode": {
    "name": "ipython",
    "version": 3
   },
   "file_extension": ".py",
   "mimetype": "text/x-python",
   "name": "python",
   "nbconvert_exporter": "python",
   "pygments_lexer": "ipython3",
   "version": "3.8.5"
  }
 },
 "nbformat": 4,
 "nbformat_minor": 5
}
