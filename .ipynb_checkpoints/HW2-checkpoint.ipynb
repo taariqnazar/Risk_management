{
 "cells": [
  {
   "cell_type": "code",
   "execution_count": 1,
   "id": "fff4bc00-88ed-4c27-87eb-d03c0e826518",
   "metadata": {},
   "outputs": [],
   "source": [
    "import pandas as pd\n",
    "import numpy as np\n",
    "import matplotlib.pyplot as plt\n",
    "import yfinance as yf"
   ]
  },
  {
   "cell_type": "code",
   "execution_count": 2,
   "id": "87a7a538-b7f1-4b3b-80fe-3b5f986ac078",
   "metadata": {},
   "outputs": [],
   "source": [
    "#Yearly interest\n",
    "r = 0.01\n",
    "R0 = np.exp(r)"
   ]
  },
  {
   "cell_type": "markdown",
   "id": "b4524b43-e147-4e93-b231-31d2770ee6e6",
   "metadata": {
    "tags": []
   },
   "source": [
    "# Functions"
   ]
  },
  {
   "cell_type": "code",
   "execution_count": 3,
   "id": "c22af559-9fe0-4d03-aefe-3a4d46dabc57",
   "metadata": {},
   "outputs": [],
   "source": [
    "def sample_V(R1, years, sample_size, p, c, yearly_investment=1000):\n",
    "    frac = lambda k: p*(1-c*(k-1)/30)\n",
    "    q = np.array([frac(i+1) for i in range(30)])\n",
    "    phi = q*(R1 - R0) + R0\n",
    "    return pd.DataFrame(yearly_investment*phi.sort_index(axis=1,ascending=False).cumprod(axis=1).sum(axis=1))\n",
    "\n",
    "def sample_V_rec(R1, years, sample_size, p, c, yearly_investment=1000):\n",
    "    temp = []\n",
    "    for i in range(sample_size):\n",
    "        V = 0\n",
    "        for k in range(years):\n",
    "            frac = p*(1-c*(k)/30)\n",
    "            V = (yearly_investment + V)*frac*R1.iloc[i,k] + (1-frac)*(yearly_investment + V)*R0\n",
    "        temp.append(V)\n",
    "    return pd.DataFrame(temp)\n",
    "\n",
    "def sample_V_TI(R1, years, sample_size, r_bar, yearly_investment=1000):\n",
    "    G = np.array([yearly_investment*np.exp(r_bar*(j+1)) for j in range(years)]).cumsum()\n",
    "    phi = G + (yearly_investment - G*np.exp(-r))*R1#(R0-R1)*G*np.exp(-r) + yearly_investment*np.exp(-r)*R1\n",
    "    \n",
    "    R1_aug = R1.shift(-1, axis=1)\n",
    "    R1_aug[years-1] = 1\n",
    "\n",
    "    return pd.DataFrame((phi * R1_aug.sort_index(axis=1, ascending=False).cumprod(axis=1).sort_index(axis=1)).sum(axis=1))\n",
    "\n",
    "def sample_V_TI_rec(R1, years, sample_size, r_bar, yearly_investment=1000):\n",
    "    temp = []\n",
    "    for i in range(sample_size):\n",
    "        V = 0\n",
    "        for k in range(years):\n",
    "            G = sum([yearly_investment*np.exp(r_bar*(j+1)) for j in range(k+1)])\n",
    "            V = (V + yearly_investment - G*np.exp(-r))*R1.iloc[i,k] + G*np.exp(-r)*R0\n",
    "        temp.append(V)\n",
    "\n",
    "    return pd.DataFrame(temp)\n",
    "\n",
    "def sample_V_lev(R1, years, sample_size, r_bar, leverage=1, yearly_investment=1000):\n",
    "    V_list = []\n",
    "    for i in range(sample_size):\n",
    "        V = 0\n",
    "        strat = True\n",
    "        for k in range(years):\n",
    "            G = sum([yearly_investment*np.exp(r_bar*(j+1)) for j in range(k+1)])\n",
    "            \n",
    "            if strat:\n",
    "                V = (V + yearly_investment - leverage*(V + yearly_investment - G*np.exp(-r)))*R0 + leverage*(V + yearly_investment - G*np.exp(-r))*R1.iloc[i,k]\n",
    "            else:\n",
    "                V = (V + 1000)*R0\n",
    "            if G>V:\n",
    "                strat = False\n",
    "            else:\n",
    "                strat = True\n",
    "                \n",
    "        V_list.append(V)\n",
    "        \n",
    "    return pd.DataFrame(V_list)\n",
    "\n",
    "def emp_dist(x, samples):\n",
    "    ind = samples < x\n",
    "    return (ind.sum()/samples.shape[0])[0]\n",
    "\n",
    "def emp_quantile(p, samples):\n",
    "    samples = samples.sort_values(by=0)\n",
    "    #+1 since we want ceil\n",
    "    ind = int(samples.shape[0]*(1-p) + 1)\n",
    "    return samples.loc[ind][0]\n",
    "\n",
    "def plot_emp_dist(samples, sample_lenght=10):\n",
    "    samples = samples.sort_values(by=0)\n",
    "    h = sample_lenght*samples.shape[0]\n",
    "    interval = samples.iloc[-1][0] - samples.iloc[0][0]\n",
    "    delta = interval/h\n",
    "    \n",
    "    x = [samples.iloc[0][0] + i*delta for i in range(h)]\n",
    "    y = [emp_dist(i, samples) for i in x]\n",
    "\n",
    "    return x,y"
   ]
  },
  {
   "cell_type": "markdown",
   "id": "4ec04ccc-b912-4ab2-948d-bb26b1bb0555",
   "metadata": {
    "tags": []
   },
   "source": [
    "# Synthetic Data"
   ]
  },
  {
   "cell_type": "code",
   "execution_count": 4,
   "id": "daf2c250-e052-4073-bb46-1c0538750cf8",
   "metadata": {},
   "outputs": [],
   "source": [
    "sample_size = int(1e4)\n",
    "years = 30\n",
    "my, sigma = 0.03, 0.2\n",
    "\n",
    "Z = pd.DataFrame(np.random.standard_normal(size=(sample_size,years)))\n",
    "R1 = np.exp(my + sigma*Z)"
   ]
  },
  {
   "cell_type": "code",
   "execution_count": 5,
   "id": "934caa2e-6ff8-4e4f-8d30-e8c183656457",
   "metadata": {},
   "outputs": [],
   "source": [
    "#p, c = 1e-5, 5e-1\n",
    "C_ = 10\n",
    "V0 = 35161.10170990864\n",
    "dives = 3\n",
    "high = 1\n",
    "low = 0\n",
    "for d in range(dives):\n",
    "    V_30s = []\n",
    "    params = np.random.uniform(high = high, low = low, size=(10000,2))\n",
    "    for p,c in params:    \n",
    "        V_30 = sample_V(R1, years, sample_size,p, c, yearly_investment=1000)\n",
    "        mean = V_30.mean()\n",
    "        var = V_30.var()\n",
    "        V_30s.append((mean - (C_/(2*V0))*var)[0])\n",
    "        #V_30.plot.hist(bins=50)\n",
    "    V_30s = pd.DataFrame(V_30s)\n",
    "    high = params[V_30s.sort_values(by=0).index[-10:]].max(axis=0)\n",
    "    low = params[V_30s.sort_values(by=0).index[-10:]].min(axis=0)"
   ]
  },
  {
   "cell_type": "code",
   "execution_count": 6,
   "id": "561d2a74-6f9a-4f5f-b182-a9ef49dfb98e",
   "metadata": {},
   "outputs": [
    {
     "data": {
      "text/plain": [
       "array([[0.23788315, 0.7474072 ],\n",
       "       [0.23789791, 0.74745886],\n",
       "       [0.23789706, 0.74745962],\n",
       "       [0.23787874, 0.74740122],\n",
       "       [0.23788988, 0.74743026],\n",
       "       [0.23788722, 0.74745359],\n",
       "       [0.23788757, 0.74745356],\n",
       "       [0.23788941, 0.74743446],\n",
       "       [0.23789074, 0.74744206],\n",
       "       [0.23788539, 0.74744296]])"
      ]
     },
     "execution_count": 6,
     "metadata": {},
     "output_type": "execute_result"
    }
   ],
   "source": [
    "#Clearly small p of order 1e-5 and c of order 1e-1 gives good mean variance max.\n",
    "params[V_30s.sort_values(by=0).index[-10:]]"
   ]
  },
  {
   "cell_type": "code",
   "execution_count": 9,
   "id": "72bbc53c-a976-4aaa-8840-d09f0405aa58",
   "metadata": {},
   "outputs": [
    {
     "name": "stdout",
     "output_type": "stream",
     "text": [
      "Mean: 38244.837607355425, Median: 38041.38511928047, Std: 3198.9252593366764, 1% Quantile: 36037.72626144069\n"
     ]
    },
    {
     "data": {
      "text/plain": [
       "<AxesSubplot:ylabel='Frequency'>"
      ]
     },
     "execution_count": 9,
     "metadata": {},
     "output_type": "execute_result"
    },
    {
     "data": {
      "image/png": "[encoded data removed]",
      "text/plain": [
       "<Figure size 432x288 with 1 Axes>"
      ]
     },
     "metadata": {
      "needs_background": "light"
     },
     "output_type": "display_data"
    }
   ],
   "source": [
    "p, c = params[V_30s.sort_values(by=0).index[-1:]][0]\n",
    "V_30 = sample_V(R1, years, sample_size,p, c, yearly_investment=1000)\n",
    "print(f'Mean: {V_30.mean()[0]}, Median: {V_30.median()[0]}, Std: {V_30.std()[0]}, 1% Quantile: {emp_quantile(0.01, V_30)}')\n",
    "V_30.plot.hist(bins=50)"
   ]
  },
  {
   "cell_type": "code",
   "execution_count": null,
   "id": "72fcb528-fa00-415b-aebf-16ddfc85b71d",
   "metadata": {},
   "outputs": [],
   "source": [
    "V_30_rec = sample_V_rec(R1, years, sample_size,p, c, yearly_investment=1000)\n",
    "print(f'Mean: {V_30_rec.mean()[0]}, 1% Quantile: {emp_quantile(0.01, V_30_rec)}')"
   ]
  },
  {
   "cell_type": "code",
   "execution_count": 13,
   "id": "9d220a78-40c6-4834-a2e0-1a9d45463df0",
   "metadata": {},
   "outputs": [
    {
     "name": "stdout",
     "output_type": "stream",
     "text": [
      "Mean: 36878.65471208494, 1% Quantile: 34114.916529923496\n"
     ]
    },
    {
     "data": {
      "text/plain": [
       "<AxesSubplot:ylabel='Frequency'>"
      ]
     },
     "execution_count": 13,
     "metadata": {},
     "output_type": "execute_result"
    },
    {
     "data": {
      "image/png": "[encoded data removed]",
      "text/plain": [
       "<Figure size 432x288 with 1 Axes>"
      ]
     },
     "metadata": {
      "needs_background": "light"
     },
     "output_type": "display_data"
    }
   ],
   "source": [
    "r_bar = 0.005\n",
    "\n",
    "V_30_TI = sample_V_TI(R1, years, sample_size, r_bar)\n",
    "#V_30_TI.plot.hist(bins=50)\n",
    "print(f'Mean: {V_30_TI.mean()[0]}, 1% Quantile: {emp_quantile(0.01, V_30_TI)}')\n",
    "V_30_TI.plot.hist(bins=50)"
   ]
  },
  {
   "cell_type": "code",
   "execution_count": null,
   "id": "b6158f32-ad10-49c2-9c76-3de5be3e9cbf",
   "metadata": {},
   "outputs": [],
   "source": [
    "V_30_TI_rec = sample_V_TI_rec(R1, years, sample_size, r_bar)\n",
    "#V_30_TI_rec.plot.hist(bins=50)\n",
    "print(f'Mean: {V_30_TI_rec.mean()[0]}, 1% Quantile: {emp_quantile(0.01, V_30_TI_rec)}')"
   ]
  },
  {
   "cell_type": "code",
   "execution_count": 12,
   "id": "a8417612-42b0-4b44-a29d-ddc1dff5bece",
   "metadata": {
    "tags": []
   },
   "outputs": [
    {
     "name": "stdout",
     "output_type": "stream",
     "text": [
      "Mean: 47614.058785976515, Median: 34631.849287807796, 1% Quantile: 32802.297288360154\n"
     ]
    },
    {
     "data": {
      "text/plain": [
       "<AxesSubplot:ylabel='Frequency'>"
      ]
     },
     "execution_count": 12,
     "metadata": {},
     "output_type": "execute_result"
    },
    {
     "data": {
      "image/png": "[encoded data removed]",
      "text/plain": [
       "<Figure size 432x288 with 1 Axes>"
      ]
     },
     "metadata": {
      "needs_background": "light"
     },
     "output_type": "display_data"
    }
   ],
   "source": [
    "r_bar = 0.005\n",
    "sample_lev = sample_V_lev(R1, years, sample_size, r_bar, leverage=3)\n",
    "print(f'Mean: {sample_lev.mean()[0]}, Median: {sample_lev.median()[0]}, 1% Quantile: {emp_quantile(0.01, sample_lev)}')\n",
    "sample_lev.plot.hist(bins=50)"
   ]
  },
  {
   "cell_type": "code",
   "execution_count": 20,
   "id": "d38079c3-9157-4703-8adc-00b7b38e80b5",
   "metadata": {},
   "outputs": [
    {
     "data": {
      "text/plain": [
       "array([34487.15231187, 36787.64804801, 35617.59137249, ...,\n",
       "       42612.36411422, 38883.54341399, 42116.02668136])"
      ]
     },
     "execution_count": 20,
     "metadata": {},
     "output_type": "execute_result"
    }
   ],
   "source": [
    "V_30.values.reshape(-1,)"
   ]
  },
  {
   "cell_type": "code",
   "execution_count": 37,
   "id": "aa3a94e2-8513-4d14-9f65-39541fc53942",
   "metadata": {},
   "outputs": [],
   "source": [
    "full = pd.DataFrame([V_30.values.reshape(-1,), V_30.values.reshape(-1,), V_30.values.reshape(-1,)]).T#.rename({0: 'Strat I', 1:'Strat II', 2:'Strat III'}).T"
   ]
  },
  {
   "cell_type": "code",
   "execution_count": null,
   "id": "5bf8e13d-f416-4587-8468-97fd2ba59d79",
   "metadata": {},
   "outputs": [],
   "source": [
    "fig, axes = plt.subplots(nrows=1, ncols=3, figsize=(12, 4))\n",
    "for i in range(3):\n",
    "    full[i].plot(ax=axes[i], title=var).hist(bins=50)\n",
    "axes[0].set_ylabel('cumulative sum')"
   ]
  },
  {
   "cell_type": "code",
   "execution_count": 69,
   "id": "27396095-cb73-468c-a87e-0a772ab424c5",
   "metadata": {},
   "outputs": [
    {
     "data": {
      "image/png": "[encoded data removed]",
      "text/plain": [
       "<Figure size 1152x288 with 3 Axes>"
      ]
     },
     "metadata": {
      "needs_background": "light"
     },
     "output_type": "display_data"
    }
   ],
   "source": [
    "fig = plt.figure(figsize=(16,4))\n",
    "ax1 = fig.add_subplot(131)\n",
    "ax1.set_xlabel('Dollars')\n",
    "ax1.set_ylabel('Frequency')\n",
    "ax1.set_title(\"Strategy I\")\n",
    "plt.hist(V_30.values, bins=50)\n",
    "ax2 = fig.add_subplot(132)\n",
    "plt.hist(V_30_TI.values, bins=50)\n",
    "ax2.set_xlabel('Dollars')\n",
    "ax2.set_ylabel('Frequency')\n",
    "ax2.set_title(\"Strategy II\")\n",
    "ax3 = fig.add_subplot(133)\n",
    "plt.hist(sample_lev.values, bins=50)\n",
    "ax3.set_xlabel('Dollars')\n",
    "ax3.set_ylabel('Frequency')\n",
    "ax3.set_title(\"Strategy III\")\n",
    "plt.tight_layout()\n",
    "#plt.savefig(\"normalvars.png\", dpi=150)\n",
    "plt.savefig('histograms_synthetic.png')"
   ]
  },
  {
   "cell_type": "markdown",
   "id": "8163cc1c-60bf-4659-8203-96b48917ad8f",
   "metadata": {
    "tags": []
   },
   "source": [
    "# Real World Data"
   ]
  },
  {
   "cell_type": "code",
   "execution_count": 70,
   "id": "8818366e-7746-4b2a-81d5-e45c6dcc1cac",
   "metadata": {},
   "outputs": [],
   "source": [
    "data = yf.Ticker(\"SPY\").history(period='MAX')\n",
    "close = data['Close']\n",
    "dim = 25\n",
    "rets = close.pct_change(dim) + 1 # montly return\n",
    "#rets = rets[dim:]\n",
    "monthly_rets = rets[[dim*(i+1) for i in range(int(rets.shape[0]/dim))]]"
   ]
  },
  {
   "cell_type": "code",
   "execution_count": 71,
   "id": "36100ec0-ad6e-4459-b9d5-e478b0123bd8",
   "metadata": {},
   "outputs": [],
   "source": [
    "months = 12 #Month in 30 years\n",
    "sample_size = int(1e4)\n",
    "yearly_historical = pd.DataFrame(np.random.choice(monthly_rets.values, size=(sample_size, months), replace=True)).prod(axis=1)"
   ]
  },
  {
   "cell_type": "code",
   "execution_count": 72,
   "id": "fd09b622-2ef1-4508-8cce-8db15af6df70",
   "metadata": {},
   "outputs": [],
   "source": [
    "sample_size = int(1e4)\n",
    "years = 30\n",
    "R1 = pd.DataFrame(np.random.choice(yearly_historical.values, size=(sample_size, years), replace=True))"
   ]
  },
  {
   "cell_type": "code",
   "execution_count": null,
   "id": "eeb74708-c65f-4a49-b853-ea35755b7c86",
   "metadata": {},
   "outputs": [],
   "source": [
    "dives = 3\n",
    "high = 1\n",
    "low = 0\n",
    "for d in range(dives):\n",
    "    V_30s = []\n",
    "    params = np.random.uniform(high = high, low = low, size=(10000,2))\n",
    "    for p,c in params:    \n",
    "        V_30 = sample_V(R1, years, sample_size,p, c, yearly_investment=1000)\n",
    "        mean = V_30.mean()\n",
    "        var = V_30.var()\n",
    "        V_30s.append((mean - (C_/(2*V0))*var)[0])\n",
    "        #V_30.plot.hist(bins=50)\n",
    "    V_30s = pd.DataFrame(V_30s)\n",
    "    high = params[V_30s.sort_values(by=0).index[-10:]].max(axis=0)\n",
    "    low = params[V_30s.sort_values(by=0).index[-10:]].min(axis=0)"
   ]
  },
  {
   "cell_type": "code",
   "execution_count": null,
   "id": "f33e226d-0a1c-40b6-9cf6-a57df3af3af9",
   "metadata": {},
   "outputs": [],
   "source": [
    "params[V_30s.sort_values(by=0).index[-1:]]"
   ]
  },
  {
   "cell_type": "code",
   "execution_count": null,
   "id": "54a85e3e-2187-47bc-94ff-17bb7ded78af",
   "metadata": {},
   "outputs": [],
   "source": [
    "p, c = params[V_30s.sort_values(by=0).index[-1:]][0]\n",
    "V_30 = sample_V(R1, years, sample_size, p, c, yearly_investment=1000)\n",
    "print(f'Mean: {V_30.mean()[0]}, Median: {V_30.median()[0]}, 1% Quantile: {emp_quantile(0.01, V_30)}')\n",
    "V_30.plot.hist(bins=50,)"
   ]
  },
  {
   "cell_type": "code",
   "execution_count": null,
   "id": "ad41ec22-9b6c-412d-89ac-7831ab2ed57e",
   "metadata": {},
   "outputs": [],
   "source": [
    "V_30_TI = sample_V_TI(R1, years, sample_size, r_bar)\n",
    "print(f'Mean: {V_30_TI.mean()[0]}, 1% Quantile: {emp_quantile(0.01, V_30_TI)}')"
   ]
  },
  {
   "cell_type": "code",
   "execution_count": null,
   "id": "7066c9b7-8cbe-49d6-beb5-7da9accf4709",
   "metadata": {
    "tags": []
   },
   "outputs": [],
   "source": [
    "sample_lev = sample_V_lev(R1, years, sample_size, r_bar, leverage=2)\n",
    "print(f'Mean: {sample_lev.mean()[0]}, Median: {sample_lev.std()[0]}, 1% Quantile: {emp_quantile(0.01, sample_lev)}')"
   ]
  },
  {
   "cell_type": "code",
   "execution_count": null,
   "id": "f7479df0-88fd-400a-af95-83d549b17314",
   "metadata": {},
   "outputs": [],
   "source": [
    "fig = plt.figure(figsize=(16,4))\n",
    "ax1 = fig.add_subplot(131)\n",
    "ax1.set_xlabel('Dollars')\n",
    "ax1.set_ylabel('Frequency')\n",
    "ax1.set_title(\"Strategy I\")\n",
    "plt.hist(V_30.values, bins=50)\n",
    "ax2 = fig.add_subplot(132)\n",
    "plt.hist(V_30_TI.values, bins=50)\n",
    "ax2.set_xlabel('Dollars')\n",
    "ax2.set_ylabel('Frequency')\n",
    "ax2.set_title(\"Strategy II\")\n",
    "ax3 = fig.add_subplot(133)\n",
    "plt.hist(sample_lev.values, bins=50)\n",
    "ax3.set_xlabel('Dollars')\n",
    "ax3.set_ylabel('Frequency')\n",
    "ax3.set_title(\"Strategy III\")\n",
    "plt.tight_layout()\n",
    "#plt.savefig(\"normalvars.png\", dpi=150)\n",
    "plt.savefig('histograms_real.png')"
   ]
  },
  {
   "cell_type": "code",
   "execution_count": null,
   "id": "de1a3505-9384-45e5-9f35-c105485de84c",
   "metadata": {},
   "outputs": [],
   "source": []
  }
 ],
 "metadata": {
  "kernelspec": {
   "display_name": "Python 3",
   "language": "python",
   "name": "python3"
  },
  "language_info": {
   "codemirror_mode": {
    "name": "ipython",
    "version": 3
   },
   "file_extension": ".py",
   "mimetype": "text/x-python",
   "name": "python",
   "nbconvert_exporter": "python",
   "pygments_lexer": "ipython3",
   "version": "3.6.12"
  }
 },
 "nbformat": 4,
 "nbformat_minor": 5
}
