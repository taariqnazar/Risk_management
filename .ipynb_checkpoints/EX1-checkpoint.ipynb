{
 "cells": [
  {
   "cell_type": "code",
   "execution_count": 1,
   "id": "2161b159-e44c-4ec2-923f-22868aa42a8f",
   "metadata": {},
   "outputs": [],
   "source": [
    "import numpy as np \n",
    "import pandas as pd\n",
    "import matplotlib.pyplot as plt"
   ]
  },
  {
   "cell_type": "code",
   "execution_count": 2,
   "id": "aceabb56-9758-4235-8187-cb5ed31432ab",
   "metadata": {},
   "outputs": [],
   "source": [
    "v = 2\n",
    "p = 0.05\n",
    "n = 200\n",
    "\n",
    "Y = np.random.standard_t(2, size=n)\n",
    "X = np.exp(0.01*Y) - 1\n",
    "X = pd.DataFrame(X)\n",
    "\n",
    "R0 = 1\n",
    "L = - X/R0\n",
    "L = L.sort_values(0, ascending=False).reset_index(drop=True)"
   ]
  },
  {
   "cell_type": "code",
   "execution_count": 3,
   "id": "cebee8f0-6626-4659-8de6-79dbb56ea471",
   "metadata": {},
   "outputs": [],
   "source": [
    "# Estimate ES\n",
    "def ES(X, n, p, R0 = 1):\n",
    "    np_ = int(n*p) - 1\n",
    "    \n",
    "    L = - X/R0\n",
    "    L = L.sort_values(0, ascending=False).reset_index(drop=True)\n",
    "    return (1/p)*( L.loc[:np_].mean()[0] + ( p - np_/n)*L.loc[np_+1][0])\n",
    "\n",
    "# Estimate TCM\n",
    "def TCM(X, n, p, R0 = 1):\n",
    "    np_ = int(n*p) - 1\n",
    "    \n",
    "    L = - X/R0\n",
    "    L = L.sort_values(0, ascending=False).reset_index(drop=True)\n",
    "    \n",
    "    VaR = L.loc[np_ + 1][0]\n",
    "    TCM = L[L >= VaR].dropna().median()[0]\n",
    "    \n",
    "    return TCM\n",
    "\n",
    "#General Thetha sampler\n",
    "def draw_theta(func, sample_size, v):\n",
    "    p = 0.05\n",
    "    n = 200\n",
    "    \n",
    "    draws = []\n",
    "    for i in range(sample_size):\n",
    "        Y = np.random.standard_t(v, size=n)\n",
    "        X = np.exp(0.01*Y) - 1\n",
    "        X = pd.DataFrame(X)\n",
    "        \n",
    "        draws.append(func(X, n, p))\n",
    "    return draws"
   ]
  },
  {
   "cell_type": "code",
   "execution_count": 91,
   "id": "58689070-9b74-488b-8eeb-c8633ee66bd2",
   "metadata": {},
   "outputs": [],
   "source": [
    "sample_size = int(1e5)\n",
    "v = 2\n",
    "ES_draws = draw_theta(ES, sample_size, v)\n",
    "TCM_draws = draw_theta(TCM, sample_size, v)"
   ]
  },
  {
   "cell_type": "code",
   "execution_count": 107,
   "id": "e45c89cf-6d59-4f5b-9d67-878cbb487e72",
   "metadata": {},
   "outputs": [
    {
     "data": {
      "text/plain": [
       "array([[<AxesSubplot:title={'center':'0'}>]], dtype=object)"
      ]
     },
     "execution_count": 107,
     "metadata": {},
     "output_type": "execute_result"
    },
    {
     "data": {
      "image/png": "[encoded data removed]",
      "text/plain": [
       "<Figure size 432x288 with 1 Axes>"
      ]
     },
     "metadata": {
      "needs_background": "light"
     },
     "output_type": "display_data"
    },
    {
     "data": {
      "image/png": "[encoded data removed]",
      "text/plain": [
       "<Figure size 432x288 with 1 Axes>"
      ]
     },
     "metadata": {
      "needs_background": "light"
     },
     "output_type": "display_data"
    }
   ],
   "source": [
    "pd.DataFrame(ES_draws).hist(bins=100)\n",
    "pd.DataFrame(TCM_draws).hist(bins=100)"
   ]
  },
  {
   "cell_type": "code",
   "execution_count": 4,
   "id": "7558e3cd-3dd1-4bff-9405-ff6a7cdcd338",
   "metadata": {
    "scrolled": true,
    "tags": []
   },
   "outputs": [
    {
     "ename": "NameError",
     "evalue": "name 'VaR_' is not defined",
     "output_type": "error",
     "traceback": [
      "\u001b[1;31m---------------------------------------------------------------------------\u001b[0m",
      "\u001b[1;31mNameError\u001b[0m                                 Traceback (most recent call last)",
      "\u001b[1;32m<ipython-input-4-f31fa590be3f>\u001b[0m in \u001b[0;36m<module>\u001b[1;34m\u001b[0m\n\u001b[0;32m      2\u001b[0m \u001b[0mv\u001b[0m \u001b[1;33m=\u001b[0m \u001b[1;36m10\u001b[0m\u001b[1;33m\u001b[0m\u001b[1;33m\u001b[0m\u001b[0m\n\u001b[0;32m      3\u001b[0m \u001b[0mES_draws_\u001b[0m \u001b[1;33m=\u001b[0m \u001b[0mdraw_theta\u001b[0m\u001b[1;33m(\u001b[0m\u001b[0mES\u001b[0m\u001b[1;33m,\u001b[0m \u001b[0msample_size\u001b[0m\u001b[1;33m,\u001b[0m \u001b[0mv\u001b[0m\u001b[1;33m)\u001b[0m\u001b[1;33m\u001b[0m\u001b[1;33m\u001b[0m\u001b[0m\n\u001b[1;32m----> 4\u001b[1;33m \u001b[0mTCM_draws_\u001b[0m \u001b[1;33m=\u001b[0m \u001b[0mdraw_theta\u001b[0m\u001b[1;33m(\u001b[0m\u001b[0mTCM\u001b[0m\u001b[1;33m,\u001b[0m \u001b[0msample_size\u001b[0m\u001b[1;33m,\u001b[0m \u001b[0mv\u001b[0m\u001b[1;33m)\u001b[0m\u001b[1;33m\u001b[0m\u001b[1;33m\u001b[0m\u001b[0m\n\u001b[0m",
      "\u001b[1;32m<ipython-input-3-0e036f886ed1>\u001b[0m in \u001b[0;36mdraw_theta\u001b[1;34m(func, sample_size, v)\u001b[0m\n\u001b[0;32m     30\u001b[0m         \u001b[0mX\u001b[0m \u001b[1;33m=\u001b[0m \u001b[0mpd\u001b[0m\u001b[1;33m.\u001b[0m\u001b[0mDataFrame\u001b[0m\u001b[1;33m(\u001b[0m\u001b[0mX\u001b[0m\u001b[1;33m)\u001b[0m\u001b[1;33m\u001b[0m\u001b[1;33m\u001b[0m\u001b[0m\n\u001b[0;32m     31\u001b[0m \u001b[1;33m\u001b[0m\u001b[0m\n\u001b[1;32m---> 32\u001b[1;33m         \u001b[0mdraws\u001b[0m\u001b[1;33m.\u001b[0m\u001b[0mappend\u001b[0m\u001b[1;33m(\u001b[0m\u001b[0mfunc\u001b[0m\u001b[1;33m(\u001b[0m\u001b[0mX\u001b[0m\u001b[1;33m,\u001b[0m \u001b[0mn\u001b[0m\u001b[1;33m,\u001b[0m \u001b[0mp\u001b[0m\u001b[1;33m)\u001b[0m\u001b[1;33m)\u001b[0m\u001b[1;33m\u001b[0m\u001b[1;33m\u001b[0m\u001b[0m\n\u001b[0m\u001b[0;32m     33\u001b[0m     \u001b[1;32mreturn\u001b[0m \u001b[0mdraws\u001b[0m\u001b[1;33m\u001b[0m\u001b[1;33m\u001b[0m\u001b[0m\n",
      "\u001b[1;32m<ipython-input-3-0e036f886ed1>\u001b[0m in \u001b[0;36mTCM\u001b[1;34m(X, n, p, R0)\u001b[0m\n\u001b[0;32m     15\u001b[0m \u001b[1;33m\u001b[0m\u001b[0m\n\u001b[0;32m     16\u001b[0m     \u001b[0mVaR\u001b[0m \u001b[1;33m=\u001b[0m \u001b[0mL\u001b[0m\u001b[1;33m.\u001b[0m\u001b[0mloc\u001b[0m\u001b[1;33m[\u001b[0m\u001b[0mnp_\u001b[0m \u001b[1;33m+\u001b[0m \u001b[1;36m1\u001b[0m\u001b[1;33m]\u001b[0m\u001b[1;33m[\u001b[0m\u001b[1;36m0\u001b[0m\u001b[1;33m]\u001b[0m\u001b[1;33m\u001b[0m\u001b[1;33m\u001b[0m\u001b[0m\n\u001b[1;32m---> 17\u001b[1;33m     \u001b[0mTCM\u001b[0m \u001b[1;33m=\u001b[0m \u001b[0mL\u001b[0m\u001b[1;33m[\u001b[0m\u001b[0mL\u001b[0m \u001b[1;33m>=\u001b[0m \u001b[0mVaR_\u001b[0m\u001b[1;33m]\u001b[0m\u001b[1;33m.\u001b[0m\u001b[0mdropna\u001b[0m\u001b[1;33m(\u001b[0m\u001b[1;33m)\u001b[0m\u001b[1;33m.\u001b[0m\u001b[0mmedian\u001b[0m\u001b[1;33m(\u001b[0m\u001b[1;33m)\u001b[0m\u001b[1;33m[\u001b[0m\u001b[1;36m0\u001b[0m\u001b[1;33m]\u001b[0m\u001b[1;33m\u001b[0m\u001b[1;33m\u001b[0m\u001b[0m\n\u001b[0m\u001b[0;32m     18\u001b[0m \u001b[1;33m\u001b[0m\u001b[0m\n\u001b[0;32m     19\u001b[0m     \u001b[1;32mreturn\u001b[0m \u001b[0mTCM\u001b[0m\u001b[1;33m\u001b[0m\u001b[1;33m\u001b[0m\u001b[0m\n",
      "\u001b[1;31mNameError\u001b[0m: name 'VaR_' is not defined"
     ]
    }
   ],
   "source": [
    "sample_size = int(1e5)\n",
    "v = 10\n",
    "ES_draws_ = draw_theta(ES, sample_size, v)\n",
    "TCM_draws_ = draw_theta(TCM, sample_size, v)"
   ]
  },
  {
   "cell_type": "code",
   "execution_count": null,
   "id": "dfdf834a-39b2-406e-823f-cc5b4dd8eb73",
   "metadata": {},
   "outputs": [],
   "source": [
    "pd.DataFrame(ES_draws_).hist(bins=100)\n",
    "pd.DataFrame(TCM_draws_).hist(bins=100)"
   ]
  }
 ],
 "metadata": {
  "kernelspec": {
   "display_name": "Python 3",
   "language": "python",
   "name": "python3"
  },
  "language_info": {
   "codemirror_mode": {
    "name": "ipython",
    "version": 3
   },
   "file_extension": ".py",
   "mimetype": "text/x-python",
   "name": "python",
   "nbconvert_exporter": "python",
   "pygments_lexer": "ipython3",
   "version": "3.6.12"
  }
 },
 "nbformat": 4,
 "nbformat_minor": 5
}
