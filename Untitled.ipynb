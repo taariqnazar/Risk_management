{
 "cells": [
  {
   "cell_type": "code",
   "execution_count": null,
   "id": "fac64142-679e-4957-8eed-a011371a5953",
   "metadata": {},
   "outputs": [],
   "source": [
    "ps = [0, 0.1, 0.2, 0.3, 0.4, 0.5, 0.6, 0.7, 0.8, 0.9, 1]\n",
    "cs = [0, 0.1, 0.2, 0.3, 0.4, 0.5, 0.6, 0.7, 0.8, 0.9, 1]\n",
    "\n",
    "\n",
    "params = []\n",
    "opt = []\n",
    "for p in ps:\n",
    "    for c in cs:\n",
    "        V_30_samples = f(p,c)\n",
    "        opt.append( mean(V_30_samples) - lambd Var(V_30) )\n",
    "        params.append((p,c))\n",
    "        \n",
    "p,c = params[argmax(opt)]"
   ]
  }
 ],
 "metadata": {
  "kernelspec": {
   "display_name": "Python 3",
   "language": "python",
   "name": "python3"
  },
  "language_info": {
   "codemirror_mode": {
    "name": "ipython",
    "version": 3
   },
   "file_extension": ".py",
   "mimetype": "text/x-python",
   "name": "python",
   "nbconvert_exporter": "python",
   "pygments_lexer": "ipython3",
   "version": "3.6.12"
  }
 },
 "nbformat": 4,
 "nbformat_minor": 5
}
